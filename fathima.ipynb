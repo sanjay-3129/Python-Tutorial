{
  "nbformat": 4,
  "nbformat_minor": 0,
  "metadata": {
    "colab": {
      "name": "Untitled2.ipynb",
      "provenance": [],
      "collapsed_sections": [],
      "authorship_tag": "ABX9TyPMHoInMi1hdyzcwhiZWOKj",
      "include_colab_link": true
    },
    "kernelspec": {
      "name": "python3",
      "display_name": "Python 3"
    },
    "language_info": {
      "name": "python"
    }
  },
  "cells": [
    {
      "cell_type": "markdown",
      "metadata": {
        "id": "view-in-github",
        "colab_type": "text"
      },
      "source": [
        "<a href=\"https://colab.research.google.com/github/sanjay-3129/Python-Tutorial/blob/master/fathima.ipynb\" target=\"_parent\"><img src=\"https://colab.research.google.com/assets/colab-badge.svg\" alt=\"Open In Colab\"/></a>"
      ]
    },
    {
      "cell_type": "code",
      "metadata": {
        "id": "d6s_HUGx-E0-"
      },
      "source": [
        "import re"
      ],
      "execution_count": 24,
      "outputs": []
    },
    {
      "cell_type": "code",
      "metadata": {
        "colab": {
          "base_uri": "https://localhost:8080/"
        },
        "id": "3fX0GG2SvT2M",
        "outputId": "c0fbd852-09c3-4d6b-93f4-b9801db2dd2c"
      },
      "source": [
        "with open(\"./conv.txt\",\"r\") as conv:\n",
        "    lines=conv.readlines()\n",
        "    names=[]\n",
        "    for l in lines:\n",
        "        as_list=l.split(':')\n",
        "        name=as_list[0]\n",
        "        if name!=\"\\n\":\n",
        "            names.append(name)\n",
        "    print(names)"
      ],
      "execution_count": 25,
      "outputs": [
        {
          "output_type": "stream",
          "name": "stdout",
          "text": [
            "['WILL', 'WAYMAR ROYCE', 'WILL', 'GARED', 'ROYCE', 'GARED', 'ROYCE', 'WILL', 'ROYCE', 'ROYCE', 'WILL', 'GARED', 'ROYCE', 'JON', 'JON', 'SEPTA MORDANE', 'SANSA', 'SEPTA MORDANE', 'NED', 'JON', 'ROBB', 'CASSEL', 'NED', 'CATELYN', 'NED', 'CASSEL', 'NED', 'CATELYN', 'NED', 'ROBB', 'NED', 'JON', 'NED', 'JON', 'NED', 'BRAN', 'NED', 'BRAN', 'NED', 'BRAN', 'NED', 'BRAN', 'NED', 'JON', 'THEON', 'NED', 'THEON', 'NED', 'NED', 'ROBB', 'JON', 'JON', 'BRAN', 'CASSEL', 'NED', 'THEON', 'BRAN', 'ROBB', 'THEON', 'BRAN', 'NED', 'JON', 'NED', 'BRAN', 'JON', 'ROBB', 'CERSEI', 'JAIME', 'CERSEI', 'JAIME', 'CERSEI', 'JAIME', 'CATELYN', 'NED', 'CATELYN', 'NED', 'CATELYN', 'NED', 'ROBB', 'THEON', 'ROBB', 'CATELYN', 'BRAN', 'CATELYN', 'BRAN', 'CATELYN', 'NED', 'ROBERT', 'ROBERT', 'CATELYN', 'ROBERT', 'NED', 'ARYA', 'SANSA', 'ROBERT', 'ARYA', 'ROBERT', 'ARYA', 'SANSA', 'NED', 'CATELYN', 'ROBERT', 'CERSEI', 'ROBERT', 'ARYA', 'CERSEI', 'NED', 'ROBERT', 'NED', 'ROBERT', 'NED']\n"
          ]
        }
      ]
    },
    {
      "cell_type": "code",
      "metadata": {
        "colab": {
          "base_uri": "https://localhost:8080/"
        },
        "id": "MODLcrWgwmKh",
        "outputId": "e48382af-3777-4866-debc-74fb15e30209"
      },
      "source": [
        "my_set=set(names)\n",
        "print(my_set)"
      ],
      "execution_count": 26,
      "outputs": [
        {
          "output_type": "stream",
          "name": "stdout",
          "text": [
            "{'ROBB', 'ARYA', 'JON', 'SEPTA MORDANE', 'CATELYN', 'JAIME', 'ROYCE', 'GARED', 'WAYMAR ROYCE', 'NED', 'THEON', 'CERSEI', 'ROBERT', 'CASSEL', 'WILL', 'SANSA', 'BRAN'}\n"
          ]
        }
      ]
    },
    {
      "cell_type": "code",
      "metadata": {
        "id": "I0l5tWchxhI0"
      },
      "source": [
        "unique_words_list = [];\n",
        "for name in my_set: \n",
        "  file_name = \"\"\n",
        "  # check name & make _ if as space\n",
        "  _namelist = name.split(' ')\n",
        "  file_name = \"_\".join(_namelist) + \".txt\"\n",
        "  dialogue = []\n",
        "  for l in lines:\n",
        "    length = len(l)\n",
        "    sen_list = l.split(':')\n",
        "    l_name = sen_list[0]\n",
        "    if name == l_name:  \n",
        "      d_index=l.index(':')\n",
        "      d = l[d_index+2 : length].lower();\n",
        "      res = re.sub(r'[^\\w\\s]', '', d)   #removing punctuations\n",
        "      res = re.sub(r'[\\n]', '', res)   #removing \\n\n",
        "      d_list = res.split(' ')\n",
        "      dialogue = dialogue + d_list;\n",
        "  unique_words=set(dialogue)\n",
        "  unique_words_list = list(unique_words)\n",
        "  # print(s)\n",
        "  with open('d3/'+file_name,'w') as f:\n",
        "    for nam in unique_words_list:\n",
        "      f.write(('%s'%nam) + '\\n')"
      ],
      "execution_count": 58,
      "outputs": []
    },
    {
      "cell_type": "code",
      "metadata": {
        "id": "t1BPD5UOAAY0"
      },
      "source": [
        "for\n",
        "  for\n",
        "    for\n",
        "\n",
        "# O(n^3)   -----  time complexity\n",
        "\n",
        "for\n",
        "  for\n",
        "  for\n",
        "# O(n^2)\n",
        "\n",
        "for\n",
        "for\n",
        "#O(n)"
      ],
      "execution_count": null,
      "outputs": []
    }
  ]
}